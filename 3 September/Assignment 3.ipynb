{
 "cells": [
  {
   "cell_type": "markdown",
   "metadata": {},
   "source": [
    "# Samruddhi Benkar - Assignment No 3"
   ]
  },
  {
   "cell_type": "markdown",
   "metadata": {},
   "source": [
    "## You all are Pilots, you want to land a plane safely, so w.a.p to take current altitude as input and check whether the altitude is less than 1000 ft. to land the plane, or more than 1000 ft, and if it's less than  5000 ft. ask pilot to bring it down to 1000 ft. and if its more than 5000 ft. then ask pilot to turn around and attempt later."
   ]
  },
  {
   "cell_type": "code",
   "execution_count": 1,
   "metadata": {},
   "outputs": [
    {
     "name": "stdout",
     "output_type": "stream",
     "text": [
      "Enter the current altitude : 1000\n",
      "Safe to land.\n"
     ]
    }
   ],
   "source": [
    "current_altitude = int(input(\"Enter the current altitude : \"))\n",
    "\n",
    "if current_altitude<=1000:\n",
    "    print(\"Safe to land.\")\n",
    "elif current_altitude>1000 and current_altitude<5000:\n",
    "    print(\"Bring down to 1000 ft.\")\n",
    "else:\n",
    "    print(\"Turn around and attempt later.\")"
   ]
  },
  {
   "cell_type": "code",
   "execution_count": null,
   "metadata": {},
   "outputs": [],
   "source": []
  }
 ],
 "metadata": {
  "kernelspec": {
   "display_name": "Python 3",
   "language": "python",
   "name": "python3"
  },
  "language_info": {
   "codemirror_mode": {
    "name": "ipython",
    "version": 3
   },
   "file_extension": ".py",
   "mimetype": "text/x-python",
   "name": "python",
   "nbconvert_exporter": "python",
   "pygments_lexer": "ipython3",
   "version": "3.7.6"
  }
 },
 "nbformat": 4,
 "nbformat_minor": 4
}
