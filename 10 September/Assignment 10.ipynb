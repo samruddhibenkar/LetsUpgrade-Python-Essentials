{
 "cells": [
  {
   "cell_type": "markdown",
   "metadata": {},
   "source": [
    "# Samruddhi Benkar - Assignment No 10"
   ]
  },
  {
   "cell_type": "markdown",
   "metadata": {},
   "source": [
    "## Write a decorator function for your taking input for you any kind of function you want to build, For example - You make a fibonacci series function,in which your input range is been defined by the decorator program input."
   ]
  },
  {
   "cell_type": "code",
   "execution_count": 1,
   "metadata": {},
   "outputs": [],
   "source": [
    "def getInput(calculator_functn):\n",
    "    def wrap_function():\n",
    "        print(\"Welcome to my calculator!\")\n",
    "        num1 = int(input(\"Enter first number - \"))\n",
    "        num2 = int(input(\"Enter second number - \"))    \n",
    "        calculator_functn(num1, num2)\n",
    "    return wrap_function"
   ]
  },
  {
   "cell_type": "code",
   "execution_count": 2,
   "metadata": {},
   "outputs": [],
   "source": [
    "@getInput\n",
    "\n",
    "def addition(num1, num2):\n",
    "    print(\"Addition is\", num1 + num2)"
   ]
  },
  {
   "cell_type": "code",
   "execution_count": 3,
   "metadata": {},
   "outputs": [],
   "source": [
    "@getInput\n",
    "\n",
    "def subtraction(num1, num2):\n",
    "    print(\"Subtraction is\", num1 - num2)"
   ]
  },
  {
   "cell_type": "code",
   "execution_count": 4,
   "metadata": {},
   "outputs": [],
   "source": [
    "@getInput\n",
    "\n",
    "def division(num1, num2):\n",
    "    print(\"Division is\", num1 / num2)"
   ]
  },
  {
   "cell_type": "code",
   "execution_count": 5,
   "metadata": {},
   "outputs": [],
   "source": [
    "@getInput\n",
    "\n",
    "def multiplication(num1, num2):\n",
    "    print(\"Multiplication is\", num1 * num2)"
   ]
  },
  {
   "cell_type": "code",
   "execution_count": 6,
   "metadata": {},
   "outputs": [
    {
     "name": "stdout",
     "output_type": "stream",
     "text": [
      "Welcome to my calculator!\n",
      "Enter first number - 12\n",
      "Enter second number - 24\n",
      "Addition is 36\n"
     ]
    }
   ],
   "source": [
    "addition()"
   ]
  },
  {
   "cell_type": "code",
   "execution_count": 7,
   "metadata": {},
   "outputs": [
    {
     "name": "stdout",
     "output_type": "stream",
     "text": [
      "Welcome to my calculator!\n",
      "Enter first number - 36\n",
      "Enter second number - 12\n",
      "Subtraction is 24\n"
     ]
    }
   ],
   "source": [
    "subtraction()"
   ]
  },
  {
   "cell_type": "code",
   "execution_count": 8,
   "metadata": {},
   "outputs": [
    {
     "name": "stdout",
     "output_type": "stream",
     "text": [
      "Welcome to my calculator!\n",
      "Enter first number - 50\n",
      "Enter second number - 4\n",
      "Division is 12.5\n"
     ]
    }
   ],
   "source": [
    "division()"
   ]
  },
  {
   "cell_type": "code",
   "execution_count": 9,
   "metadata": {},
   "outputs": [
    {
     "name": "stdout",
     "output_type": "stream",
     "text": [
      "Welcome to my calculator!\n",
      "Enter first number - 12\n",
      "Enter second number - 12\n",
      "Multiplication is 144\n"
     ]
    }
   ],
   "source": [
    "multiplication()"
   ]
  },
  {
   "cell_type": "code",
   "execution_count": null,
   "metadata": {},
   "outputs": [],
   "source": []
  }
 ],
 "metadata": {
  "kernelspec": {
   "display_name": "Python 3",
   "language": "python",
   "name": "python3"
  },
  "language_info": {
   "codemirror_mode": {
    "name": "ipython",
    "version": 3
   },
   "file_extension": ".py",
   "mimetype": "text/x-python",
   "name": "python",
   "nbconvert_exporter": "python",
   "pygments_lexer": "ipython3",
   "version": "3.7.6"
  }
 },
 "nbformat": 4,
 "nbformat_minor": 4
}
