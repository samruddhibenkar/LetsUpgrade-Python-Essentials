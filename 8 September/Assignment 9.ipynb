{
 "cells": [
  {
   "cell_type": "markdown",
   "metadata": {},
   "source": [
    "# Samruddhi Benkar - Assignment No 9"
   ]
  },
  {
   "cell_type": "markdown",
   "metadata": {},
   "source": [
    "## For this challenge,create a cone class that has two attributes: r=Radius h=Height and two methods: Volume = Π * r2 = (h/3) and Surface area : base : Π * r2 , side : Π * r * √(r2 + h2). Make only one class with functions,as in where required import Math."
   ]
  },
  {
   "cell_type": "code",
   "execution_count": 1,
   "metadata": {},
   "outputs": [],
   "source": [
    "import math\n",
    "\n",
    "class Cone():\n",
    "    def __init__(self,radius,height):\n",
    "        self.radius = radius\n",
    "        self.height = height\n",
    "    \n",
    "    def Volume(self):\n",
    "        volume = ((math.pi)*self.radius*self.radius)*(self.height/3)\n",
    "        print(\"Volume of cone is: \" , volume)\n",
    "        \n",
    "    def S_Area(self):\n",
    "        base = ((math.pi)*(self.radius*self.radius))\n",
    "        side = (((math.pi)*(self.radius))*(math.sqrt((self.height*self.height)+(self.radius*self.radius))))\n",
    "        area = base + side\n",
    "        print(\"Surface area of cone is: \" , area)"
   ]
  },
  {
   "cell_type": "code",
   "execution_count": 2,
   "metadata": {},
   "outputs": [],
   "source": [
    "a = Cone(5,4)"
   ]
  },
  {
   "cell_type": "code",
   "execution_count": 3,
   "metadata": {},
   "outputs": [
    {
     "name": "stdout",
     "output_type": "stream",
     "text": [
      "Volume of cone is:  104.71975511965977\n"
     ]
    }
   ],
   "source": [
    "a.Volume()"
   ]
  },
  {
   "cell_type": "code",
   "execution_count": 4,
   "metadata": {},
   "outputs": [
    {
     "name": "stdout",
     "output_type": "stream",
     "text": [
      "Surface area of cone is:  179.11985666145375\n"
     ]
    }
   ],
   "source": [
    "a.S_Area()"
   ]
  },
  {
   "cell_type": "code",
   "execution_count": null,
   "metadata": {},
   "outputs": [],
   "source": []
  }
 ],
 "metadata": {
  "kernelspec": {
   "display_name": "Python 3",
   "language": "python",
   "name": "python3"
  },
  "language_info": {
   "codemirror_mode": {
    "name": "ipython",
    "version": 3
   },
   "file_extension": ".py",
   "mimetype": "text/x-python",
   "name": "python",
   "nbconvert_exporter": "python",
   "pygments_lexer": "ipython3",
   "version": "3.7.6"
  }
 },
 "nbformat": 4,
 "nbformat_minor": 4
}
