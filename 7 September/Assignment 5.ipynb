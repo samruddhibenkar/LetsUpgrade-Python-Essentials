{
 "cells": [
  {
   "cell_type": "markdown",
   "metadata": {},
   "source": [
    "# Samruddhi Benkar - Assignment No 5"
   ]
  },
  {
   "cell_type": "markdown",
   "metadata": {},
   "source": [
    "## Write a program to identify sub list [1,1,5] is there in the given list in the same order, if yes print “it’s a Match” if no then print “it’s Gone” in function."
   ]
  },
  {
   "cell_type": "code",
   "execution_count": 1,
   "metadata": {},
   "outputs": [
    {
     "name": "stdout",
     "output_type": "stream",
     "text": [
      "It's a Match\n"
     ]
    },
    {
     "data": {
      "text/plain": [
       "[]"
      ]
     },
     "execution_count": 1,
     "metadata": {},
     "output_type": "execute_result"
    }
   ],
   "source": [
    "x = [1,5,6,4,1,2,3,5]\n",
    "y = [1,1,5]\n",
    "\n",
    "def check(a,b):\n",
    "    for i in a:\n",
    "        for j in b:\n",
    "            if(len(b)>=0 and j == i):\n",
    "                b.pop(0)\n",
    "            else:\n",
    "                break\n",
    "    return b\n",
    "\n",
    "if len(check(x,y))==0:\n",
    "    print(\"It's a Match\")\n",
    "else: print(\"It's Gone\")\n",
    "\n",
    "check(x,y)"
   ]
  },
  {
   "cell_type": "code",
   "execution_count": 2,
   "metadata": {},
   "outputs": [
    {
     "name": "stdout",
     "output_type": "stream",
     "text": [
      "It's Gone\n"
     ]
    },
    {
     "data": {
      "text/plain": [
       "[]"
      ]
     },
     "execution_count": 2,
     "metadata": {},
     "output_type": "execute_result"
    }
   ],
   "source": [
    "x = [1,5,6,5,1,2,3,6]\n",
    "y = [1,1,5]\n",
    "\n",
    "def check(a,b):\n",
    "    for i in a:\n",
    "        for j in b:\n",
    "            if(len(b)>=0 and j == i):\n",
    "                b.pop(0)\n",
    "            else:\n",
    "                break\n",
    "    return b\n",
    "\n",
    "if len(check(x,y))==0:\n",
    "    print(\"It's a Match\")\n",
    "else: print(\"It's Gone\")\n",
    "\n",
    "check(x,y)"
   ]
  },
  {
   "cell_type": "code",
   "execution_count": null,
   "metadata": {},
   "outputs": [],
   "source": []
  }
 ],
 "metadata": {
  "kernelspec": {
   "display_name": "Python 3",
   "language": "python",
   "name": "python3"
  },
  "language_info": {
   "codemirror_mode": {
    "name": "ipython",
    "version": 3
   },
   "file_extension": ".py",
   "mimetype": "text/x-python",
   "name": "python",
   "nbconvert_exporter": "python",
   "pygments_lexer": "ipython3",
   "version": "3.7.6"
  }
 },
 "nbformat": 4,
 "nbformat_minor": 4
}
