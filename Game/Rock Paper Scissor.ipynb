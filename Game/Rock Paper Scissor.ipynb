{
 "cells": [
  {
   "cell_type": "code",
   "execution_count": 1,
   "metadata": {},
   "outputs": [],
   "source": [
    "def TakePlayerInput():\n",
    "    player = \"blank\"\n",
    "    while not( player.lower() == \"r\" or player.lower() == \"p\" or player.lower() == \"s\") :\n",
    "        player = input(\"Enter your input (R | P | S) - \")\n",
    "    return player.lower()"
   ]
  },
  {
   "cell_type": "code",
   "execution_count": 2,
   "metadata": {},
   "outputs": [
    {
     "name": "stdout",
     "output_type": "stream",
     "text": [
      "Enter your input (R | P | S) - p\n"
     ]
    },
    {
     "data": {
      "text/plain": [
       "'p'"
      ]
     },
     "execution_count": 2,
     "metadata": {},
     "output_type": "execute_result"
    }
   ],
   "source": [
    "TakePlayerInput()"
   ]
  },
  {
   "cell_type": "code",
   "execution_count": 3,
   "metadata": {},
   "outputs": [],
   "source": [
    "import random \n",
    "\n",
    "def GetBotInput():\n",
    "    lst = ['r','s','p']\n",
    "    return random.choice(lst)"
   ]
  },
  {
   "cell_type": "code",
   "execution_count": 4,
   "metadata": {},
   "outputs": [
    {
     "data": {
      "text/plain": [
       "'p'"
      ]
     },
     "execution_count": 4,
     "metadata": {},
     "output_type": "execute_result"
    }
   ],
   "source": [
    "GetBotInput()"
   ]
  },
  {
   "cell_type": "code",
   "execution_count": 5,
   "metadata": {},
   "outputs": [],
   "source": [
    "def CheckWinner(player,bot):\n",
    "    if player == 'r' and bot == \"r\":\n",
    "        return \"draw\"\n",
    "    elif player == \"r\" and bot == \"p\":\n",
    "        return \"bot\"\n",
    "    elif player == \"r\" and bot == \"s\":\n",
    "        return \"player\"\n",
    "    elif player == \"p\" and bot == \"s\":\n",
    "        return \"bot\"\n",
    "    elif player == \"p\" and bot == \"r\":\n",
    "        return \"player\"\n",
    "    elif player == \"p\" and bot == \"p\":\n",
    "        return \"draw\"\n",
    "    elif player == \"s\" and bot == \"r\":\n",
    "        return \"bot\"\n",
    "    elif player == \"s\" and bot == \"p\":\n",
    "        return \"player\"\n",
    "    elif player == \"s\" and bot == \"s\":\n",
    "        return \"draw\"\n",
    "    else:\n",
    "        return \"draw\""
   ]
  },
  {
   "cell_type": "code",
   "execution_count": 6,
   "metadata": {},
   "outputs": [
    {
     "data": {
      "text/plain": [
       "'player'"
      ]
     },
     "execution_count": 6,
     "metadata": {},
     "output_type": "execute_result"
    }
   ],
   "source": [
    "CheckWinner(player = \"r\",bot = \"s\")"
   ]
  },
  {
   "cell_type": "code",
   "execution_count": 7,
   "metadata": {},
   "outputs": [],
   "source": [
    "def RockPaperScissor():\n",
    "    EndTheGame = \"n\"\n",
    "    Player_Score = 0 \n",
    "    Bot_Score = 0\n",
    "    while EndTheGame.lower() != \"y\":\n",
    "        ply = TakePlayerInput()\n",
    "        bt = GetBotInput()\n",
    "        print('Bot Entered - ', bt)\n",
    "        print(\" \")\n",
    "        winner = CheckWinner(player = ply, bot = bt)\n",
    "        print(\" Winner is - \", winner)\n",
    "        print(\" \")\n",
    "        if winner == \"player\":\n",
    "            Player_Score += 2\n",
    "        elif winner == \"bot\":\n",
    "            Bot_Score += 2\n",
    "        else :\n",
    "            Player_Score += 1\n",
    "            Bot_Score += 1\n",
    "            \n",
    "        print(\"---SCORE BOARD---\")\n",
    "        print(\"Player - \",Player_Score)\n",
    "        print(\"Bot - \",Bot_Score)\n",
    "        print(\" \")\n",
    "        EndTheGame = input(\"You want to end Y/N - \")"
   ]
  },
  {
   "cell_type": "code",
   "execution_count": 8,
   "metadata": {},
   "outputs": [
    {
     "name": "stdout",
     "output_type": "stream",
     "text": [
      "Enter your input (R | P | S) - p\n",
      "Bot Entered -  s\n",
      " \n",
      " Winner is -  bot\n",
      " \n",
      "---SCORE BOARD---\n",
      "Player -  0\n",
      "Bot -  2\n",
      " \n",
      "You want to end Y/N - n\n",
      "Enter your input (R | P | S) - p\n",
      "Bot Entered -  s\n",
      " \n",
      " Winner is -  bot\n",
      " \n",
      "---SCORE BOARD---\n",
      "Player -  0\n",
      "Bot -  4\n",
      " \n",
      "You want to end Y/N - n\n",
      "Enter your input (R | P | S) - s\n",
      "Bot Entered -  p\n",
      " \n",
      " Winner is -  player\n",
      " \n",
      "---SCORE BOARD---\n",
      "Player -  2\n",
      "Bot -  4\n",
      " \n",
      "You want to end Y/N - y\n"
     ]
    }
   ],
   "source": [
    "RockPaperScissor()"
   ]
  },
  {
   "cell_type": "code",
   "execution_count": null,
   "metadata": {},
   "outputs": [],
   "source": []
  }
 ],
 "metadata": {
  "kernelspec": {
   "display_name": "Python 3",
   "language": "python",
   "name": "python3"
  },
  "language_info": {
   "codemirror_mode": {
    "name": "ipython",
    "version": 3
   },
   "file_extension": ".py",
   "mimetype": "text/x-python",
   "name": "python",
   "nbconvert_exporter": "python",
   "pygments_lexer": "ipython3",
   "version": "3.7.6"
  }
 },
 "nbformat": 4,
 "nbformat_minor": 4
}
